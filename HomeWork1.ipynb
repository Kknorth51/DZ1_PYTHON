{
  "nbformat": 4,
  "nbformat_minor": 0,
  "metadata": {
    "colab": {
      "provenance": [],
      "authorship_tag": "ABX9TyMZFeR4rDyUYRYGNLFTAEyh",
      "include_colab_link": true
    },
    "kernelspec": {
      "name": "python3",
      "display_name": "Python 3"
    },
    "language_info": {
      "name": "python"
    }
  },
  "cells": [
    {
      "cell_type": "markdown",
      "metadata": {
        "id": "view-in-github",
        "colab_type": "text"
      },
      "source": [
        "<a href=\"https://colab.research.google.com/github/Kknorth51/DZ1_PYTHON/blob/main/HomeWork1.ipynb\" target=\"_parent\"><img src=\"https://colab.research.google.com/assets/colab-badge.svg\" alt=\"Open In Colab\"/></a>"
      ]
    },
    {
      "cell_type": "code",
      "execution_count": null,
      "metadata": {
        "id": "K3APciAVST2O"
      },
      "outputs": [],
      "source": []
    },
    {
      "cell_type": "markdown",
      "source": [
        "#Задача 1\n",
        "\n",
        "Оформляйте ноутбук, используя эти советы:\n",
        "\n",
        "* Номер задачи - заголовок 2\n",
        "\n",
        "* Номер подзадачи - заголовок 3\n",
        "\n",
        "* Предоставленные наборы данных оформляйте, как код"
      ],
      "metadata": {
        "id": "TPNvYdnXSk-q"
      }
    },
    {
      "cell_type": "markdown",
      "source": [
        "#Задача 2\n",
        "На складе лежат разные фрукты в разном количестве. \n",
        "Нужно написать функцию, которая на вход принимает любое \n",
        "количество названий фруктов и их количество, \n",
        "а возвращает общее количество фруктов на складе, \n",
        "при помощи использования kwargs"
      ],
      "metadata": {
        "id": "0amAs-pTTMw2"
      }
    },
    {
      "cell_type": "code",
      "source": [
        "def fruits(**kwargs):\n",
        "    \n",
        "    total_fruits = sum(kwargs.values())\n",
        "    \n",
        "    return f'Total fruits: {total_fruits}'\n"
      ],
      "metadata": {
        "id": "kbofyswTT1WC"
      },
      "execution_count": 6,
      "outputs": []
    },
    {
      "cell_type": "code",
      "source": [
        "print(fruits(apples=10, pears=5, bananas=4))"
      ],
      "metadata": {
        "colab": {
          "base_uri": "https://localhost:8080/"
        },
        "id": "p53hVn-qVLu2",
        "outputId": "623b601d-0c0b-452f-c28b-6d6a9f77f7e2"
      },
      "execution_count": 10,
      "outputs": [
        {
          "output_type": "stream",
          "name": "stdout",
          "text": [
            "Total fruits: 19\n"
          ]
        }
      ]
    },
    {
      "cell_type": "markdown",
      "source": [
        "#Задача 3\n",
        "Дан список с затратами на рекламу. Но в данных есть ошибки, некоторые затраты имеют отрицательную величину. Удалите такие значения из списка и посчитайте суммарные затраты\n",
        "[100, 125, -90, 345, 655, -1, 0, 200]\n",
        "Используйте list comprehensions"
      ],
      "metadata": {
        "id": "A_PPF0LIUtcK"
      }
    },
    {
      "cell_type": "code",
      "source": [
        "def expenses(data: list):\n",
        "    \n",
        "    new_data = []\n",
        "    \n",
        "    for i in data:\n",
        "        if i > 0:\n",
        "            new_data.append(i)\n",
        "            \n",
        "    print(new_data)\n",
        "    print(f'Total expenses: {sum(new_data)}')\n",
        "data = [100, 125, -90, 345, 655, -1, 0, 200]\n",
        "\n",
        "expenses(data)"
      ],
      "metadata": {
        "colab": {
          "base_uri": "https://localhost:8080/"
        },
        "id": "A73A200eU3bn",
        "outputId": "c1689bca-0481-4ff5-cafd-5b9e8e7b824f"
      },
      "execution_count": 7,
      "outputs": [
        {
          "output_type": "stream",
          "name": "stdout",
          "text": [
            "[100, 125, 345, 655, 200]\n",
            "Total expenses: 1425\n"
          ]
        }
      ]
    },
    {
      "cell_type": "code",
      "source": [
        "print([i for i in data if i > 0 ])"
      ],
      "metadata": {
        "colab": {
          "base_uri": "https://localhost:8080/"
        },
        "id": "mFfj3F8PVBMI",
        "outputId": "f11a9425-b4e5-4442-a940-fde2c7e73c4b"
      },
      "execution_count": 8,
      "outputs": [
        {
          "output_type": "stream",
          "name": "stdout",
          "text": [
            "[100, 125, 345, 655, 200]\n"
          ]
        }
      ]
    },
    {
      "cell_type": "code",
      "source": [
        "print(f'Total expenses: {sum([i for i in data if i > 0 ])}')"
      ],
      "metadata": {
        "colab": {
          "base_uri": "https://localhost:8080/"
        },
        "id": "wPr7ZXeVVG1F",
        "outputId": "45435bb2-b667-4d6b-850e-ab507d424fa2"
      },
      "execution_count": 9,
      "outputs": [
        {
          "output_type": "stream",
          "name": "stdout",
          "text": [
            "Total expenses: 1425\n"
          ]
        }
      ]
    },
    {
      "cell_type": "markdown",
      "source": [
        "#Задача 4\n",
        "Даны два списка.\n",
        "* Дата покупки\n",
        "\n",
        "['2021-09-14', '2021-12-15', '2021-09-08', '2021-12-05', '2021-10-09', '2021-09-30', '2021-12-22', '2021-11-29', '2021-12-24', '2021-11-26', '2021-10-27', '2021-12-18', '2021-11-09', '2021-11-23', '2021-09-27', '2021-10-02', '2021-12-27', '2021-09-20', '2021-12-13', '2021-11-01', '2021-11-09', '2021-12-06', '2021-12-08', '2021-10-09', '2021-10-31', '2021-09-30', '2021-11-09', '2021-12-13', '2021-10-26', '2021-12-09']\n",
        "* Суммы покупок по датам\n",
        "\n",
        "[1270, 8413, 9028, 3703, 5739, 4095, 295, 4944, 5723, 3701, 4471, 651, 7037, 4274, 6275, 4988, 6930, 2971, 6592, 2004, 2822, 519, 3406, 2732, 5015, 2008, 316, 6333, 5700, 2887]"
      ],
      "metadata": {
        "id": "tDJDrtk6VZFc"
      }
    },
    {
      "cell_type": "markdown",
      "source": [
        "#Задача 4.1\n",
        "Найдите, какая выручка у компании в ноябре\n",
        "\n",
        "Используйте list comprehensions"
      ],
      "metadata": {
        "id": "y7xVgL-tVjtU"
      }
    },
    {
      "cell_type": "code",
      "source": [
        "date = ['2021-09-14', '2021-12-15', '2021-09-08', '2021-12-05', '2021-10-09', \n",
        "        '2021-09-30', '2021-12-22', '2021-11-29', '2021-12-24', '2021-11-26', \n",
        "        '2021-10-27', '2021-12-18', '2021-11-09', '2021-11-23', '2021-09-27', \n",
        "        '2021-10-02', '2021-12-27', '2021-09-20', '2021-12-13', '2021-11-01', \n",
        "        '2021-11-09', '2021-12-06', '2021-12-08', '2021-10-09', '2021-10-31', \n",
        "        '2021-09-30', '2021-11-09', '2021-12-13', '2021-10-26', '2021-12-09']\n",
        "cost = [1270, 8413, 9028, 3703, 5739, 4095, 295, 4944, 5723, 3701, \n",
        "        4471, 651, 7037, 4274, 6275, 4988, 6930, 2971, 6592, 2004, \n",
        "        2822, 519, 3406, 2732, 5015, 2008, 316, 6333, 5700, 2887]"
      ],
      "metadata": {
        "id": "LxdxnZB0Vo-j"
      },
      "execution_count": 11,
      "outputs": []
    },
    {
      "cell_type": "code",
      "source": [
        "def november(data1: list, data2: list) -> list:\n",
        "    \n",
        "    new_data = []\n",
        "    \n",
        "    for i in range(len(data1)-1):\n",
        "        if '-11-' in data1[i]:\n",
        "            new_data.append(data2[i])\n",
        "            \n",
        "    return new_data"
      ],
      "metadata": {
        "id": "Fl8hCq0hVu3k"
      },
      "execution_count": 12,
      "outputs": []
    },
    {
      "cell_type": "code",
      "source": [
        "print(november(date, cost))\n",
        "print(f'Profit: {sum(november(date, cost))}')"
      ],
      "metadata": {
        "colab": {
          "base_uri": "https://localhost:8080/"
        },
        "id": "7BFULEn8VyqU",
        "outputId": "d4edfdec-7be6-4508-898b-cf3660137fb9"
      },
      "execution_count": 13,
      "outputs": [
        {
          "output_type": "stream",
          "name": "stdout",
          "text": [
            "[4944, 3701, 7037, 4274, 2004, 2822, 316]\n",
            "Profit: 25098\n"
          ]
        }
      ]
    },
    {
      "cell_type": "code",
      "source": [
        "print([cost[i] for i in range(0, len(date)-1) if \"-11\" in date[i]])\n",
        "print(f'Profit: {sum([cost[i] for i in range(len(date)-1) if \"-11\" in date[i]])}')"
      ],
      "metadata": {
        "colab": {
          "base_uri": "https://localhost:8080/"
        },
        "id": "VAToJfdaV5BS",
        "outputId": "90febdc8-1c17-439a-f2ae-d70a71a3783f"
      },
      "execution_count": 14,
      "outputs": [
        {
          "output_type": "stream",
          "name": "stdout",
          "text": [
            "[4944, 3701, 7037, 4274, 2004, 2822, 316]\n",
            "Profit: 25098\n"
          ]
        }
      ]
    },
    {
      "cell_type": "markdown",
      "source": [
        "# Задача 4.2\n",
        "Найдите выручку компании в зависимости от месяца\n",
        "\n",
        "Для этого напишите функцию, которая на вход принимает список с датами и список с выручкой, а на выходе словарь, где ключи - это месяцы, а значения - это выручка.\n",
        "\n",
        "Используйте аннотирование типов."
      ],
      "metadata": {
        "id": "ayZc5h1cV-Yk"
      }
    },
    {
      "cell_type": "code",
      "source": [
        "def profits(data1: list, data2: list) -> dict:\n",
        "    \n",
        "    profits = {}\n",
        "    \n",
        "    for i in range(len(data1)):\n",
        "        \n",
        "        if date[i].split('-')[1] in profits.keys():\n",
        "            profits[date[i].split('-')[1]] += cost[i]\n",
        "        else:\n",
        "            profits[date[i].split('-')[1]] = cost[i]\n",
        "            \n",
        "    return profits\n",
        "\n",
        "print(profits(date, cost))"
      ],
      "metadata": {
        "colab": {
          "base_uri": "https://localhost:8080/"
        },
        "id": "wKiAtlZyWKHj",
        "outputId": "772fe1b9-0db5-41b5-b02c-9f5279d4c147"
      },
      "execution_count": 15,
      "outputs": [
        {
          "output_type": "stream",
          "name": "stdout",
          "text": [
            "{'09': 25647, '12': 45452, '10': 28645, '11': 25098}\n"
          ]
        }
      ]
    }
  ]
}